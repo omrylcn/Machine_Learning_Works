{
 "cells": [
  {
   "cell_type": "code",
   "execution_count": null,
   "metadata": {},
   "outputs": [],
   "source": [
    "import numpy as np\n",
    "import time\n",
    "import matplotlib.pyplot as plt "
   ]
  },
  {
   "cell_type": "code",
   "execution_count": null,
   "metadata": {},
   "outputs": [],
   "source": [
    "a_x1=np.random.randint(1,8,2)+np.random.randn(2)\n",
    "a_x2=np.random.randint(1,14,2)+np.random.randn(2)\n",
    "a_y=np.ones(2).astype(int)\n",
    "a=np.c_[a_x1,a_x2,a_y]"
   ]
  },
  {
   "cell_type": "code",
   "execution_count": null,
   "metadata": {},
   "outputs": [],
   "source": [
    "b_x1=np.random.randint(10,17,2)+np.random.randn(2)\n",
    "b_x2=np.random.randint(1,17,2)+np.random.randn(2)\n",
    "b_y=(np.ones(2)*-1).astype(int)\n",
    "b=np.c_[b_x1,b_x2,b_y]"
   ]
  },
  {
   "cell_type": "code",
   "execution_count": null,
   "metadata": {},
   "outputs": [],
   "source": [
    "data=np.r_[a,b]"
   ]
  },
  {
   "cell_type": "code",
   "execution_count": null,
   "metadata": {},
   "outputs": [],
   "source": [
    "plt.scatter(data[:,0],data[:,1],c=data[:,2])"
   ]
  },
  {
   "cell_type": "code",
   "execution_count": null,
   "metadata": {},
   "outputs": [],
   "source": [
    "data_p=np.random.permutation(data)\n",
    "data_p=np.c_[np.ones(len(data)),data_p]"
   ]
  },
  {
   "cell_type": "code",
   "execution_count": null,
   "metadata": {},
   "outputs": [],
   "source": [
    "n=1000\n",
    "ind=np.random.randint(0,len(data),size=n)"
   ]
  },
  {
   "cell_type": "code",
   "execution_count": null,
   "metadata": {
    "scrolled": false
   },
   "outputs": [],
   "source": [
    "unit_step = lambda x: -1 if x < 0 else 1 \n",
    "\n",
    "\n",
    "w = np.random.randint(-12,12,3).astype(float)\n",
    "#print(w)\n",
    "errors = [] \n",
    "eta =0.01\n",
    "plt.figure(figsize=(16,12))\n",
    "plt.scatter(data[:,0],data[:,1],c=data[:,2])\n",
    "\n",
    "for i in ind:\n",
    "    nu=data_p[i]\n",
    "    \n",
    "   \n",
    "    result=np.dot(w,nu[:3])\n",
    "    #print(result)\n",
    "    error=nu[3]-unit_step(result)\n",
    "    #print(\"error\",error)\n",
    "    #print(\"nu[2]\",nu[2])\n",
    "    #print(\"unit_step(result)\",unit_step(result))\n",
    "    errors.append(error)\n",
    "    \n",
    "    w +=eta*error*nu[:3]\n",
    "  \n",
    "    x=np.linspace(1,20,20)\n",
    "    y=(-w[1]/w[2])*x-w[0]/w[2]\n",
    "    plt.plot(x,y,label=(str(i)))\n",
    "    \n",
    "plt.xlim([-5,35])\n",
    "plt.ylim([-2,25])\n",
    "#plt.legend()\n",
    "#print(\"******\",w[1])"
   ]
  },
  {
   "cell_type": "code",
   "execution_count": null,
   "metadata": {},
   "outputs": [],
   "source": [
    "\n",
    "plt.figure(figsize=(20,16))\n",
    "plt.scatter(data[:,0],data[:,1],c=data[:,2])\n",
    "\n",
    "\n",
    "x=np.linspace(-5,20,200)\n",
    "y=(-w[1]/w[2])*x-w[0]/w[2]\n",
    "plt.plot(x,y,\"*\")\n"
   ]
  },
  {
   "cell_type": "markdown",
   "metadata": {},
   "source": [
    "## Perceptrons"
   ]
  },
  {
   "cell_type": "code",
   "execution_count": null,
   "metadata": {},
   "outputs": [],
   "source": [
    "import numpy as np\n",
    "from sklearn.datasets import load_iris\n",
    "from sklearn.linear_model import Perceptron"
   ]
  },
  {
   "cell_type": "code",
   "execution_count": null,
   "metadata": {},
   "outputs": [],
   "source": [
    "data_p=np.random.permutation(data)\n",
    "X=data_p[:,:-1]\n",
    "y=data_p[:,-1].reshape(len(data),1)"
   ]
  },
  {
   "cell_type": "code",
   "execution_count": null,
   "metadata": {},
   "outputs": [],
   "source": [
    "per=Perceptron(random_state=42)\n",
    "per.fit(X,y)\n"
   ]
  },
  {
   "cell_type": "code",
   "execution_count": null,
   "metadata": {},
   "outputs": [],
   "source": [
    "a = -per.coef_[0][0] / per.coef_[0][1]\n",
    "b = -per.intercept_ / per.coef_[0][1]"
   ]
  },
  {
   "cell_type": "code",
   "execution_count": null,
   "metadata": {},
   "outputs": [],
   "source": [
    "\n",
    "axes = [-5, 25, -5, 20]\n",
    "\n",
    "x0, x1 = np.meshgrid(\n",
    "        np.linspace(axes[0], axes[1], 6),\n",
    "        np.linspace(axes[2], axes[3], 6),\n",
    "    )\n",
    "x1"
   ]
  },
  {
   "cell_type": "code",
   "execution_count": null,
   "metadata": {},
   "outputs": [],
   "source": [
    "X_new = np.c_[x0.ravel(), x1.ravel()]\n",
    "X_new"
   ]
  },
  {
   "cell_type": "code",
   "execution_count": null,
   "metadata": {},
   "outputs": [],
   "source": [
    "y_predict = per.predict(X_new)\n",
    "y_predict"
   ]
  },
  {
   "cell_type": "code",
   "execution_count": null,
   "metadata": {},
   "outputs": [],
   "source": [
    "zz = y_predict.reshape(x1.shape)\n",
    "zz"
   ]
  },
  {
   "cell_type": "code",
   "execution_count": null,
   "metadata": {},
   "outputs": [],
   "source": [
    "plt.figure(figsize=(10, 4))\n",
    "\n",
    "\n",
    "plt.plot([axes[0], axes[1]], [a * axes[0] + b, a * axes[1] + b], \"k-\", linewidth=3)\n",
    "from matplotlib.colors import ListedColormap\n",
    "custom_cmap = ListedColormap(['#9898ff', '#fafab0'])\n",
    "\n",
    "plt.contourf(x0, x1, zz, cmap=custom_cmap, linewidth=5)\n",
    "plt.scatter(data[:,0],data[:,1],c=data[:,2],marker=\"*\")\n",
    "plt.xlabel(\"Petal length\", fontsize=14)\n",
    "plt.ylabel(\"Petal width\", fontsize=14)\n",
    "plt.legend(loc=\"lower right\", fontsize=14)\n",
    "plt.axis(axes)\n",
    "plt.show()"
   ]
  },
  {
   "cell_type": "code",
   "execution_count": null,
   "metadata": {},
   "outputs": [],
   "source": []
  }
 ],
 "metadata": {
  "kernelspec": {
   "display_name": "Python 3",
   "language": "python",
   "name": "python3"
  },
  "language_info": {
   "codemirror_mode": {
    "name": "ipython",
    "version": 3
   },
   "file_extension": ".py",
   "mimetype": "text/x-python",
   "name": "python",
   "nbconvert_exporter": "python",
   "pygments_lexer": "ipython3",
   "version": "3.6.6"
  }
 },
 "nbformat": 4,
 "nbformat_minor": 2
}
